{
 "cells": [
  {
   "cell_type": "markdown",
   "metadata": {},
   "source": [
    "## Lab - Similarity and Clustering\n",
    "***"
   ]
  },
  {
   "cell_type": "markdown",
   "metadata": {},
   "source": [
    "Read in some packages."
   ]
  },
  {
   "cell_type": "code",
   "execution_count": 1,
   "metadata": {
    "collapsed": false
   },
   "outputs": [],
   "source": [
    "# Import the libraries we will be using\n",
    "import numpy as np\n",
    "import pandas as pd\n",
    "from sklearn import metrics\n",
    "from sklearn.cross_validation import train_test_split\n",
    "from scipy.spatial.distance import pdist, squareform\n",
    "from scipy.cluster.hierarchy import linkage, dendrogram\n",
    "from sklearn.cluster import KMeans\n",
    "from sklearn.neighbors import KNeighborsClassifier\n",
    "from scipy.spatial import distance\n",
    "\n",
    "%matplotlib inline\n",
    "import matplotlib.pylab as plt\n",
    "plt.rcParams['figure.figsize'] = 14, 8\n",
    "\n",
    "# I've abstracted some of what we'll be doing today into a library.\n",
    "# You can take a look at this code if you want by going into `dstools/data_tools.py`\n",
    "from dstools import data_tools\n",
    "\n",
    "np.random.seed(36)"
   ]
  },
  {
   "cell_type": "markdown",
   "metadata": {},
   "source": [
    "### Data\n",
    "We have a data set describing many characteristics of scotch. You can find it in `data/scotch.csv`.\n",
    "\n",
    "The data consists of 5 general whiskey attributes, each of which has many possible values:\n",
    "\n",
    "- **Color**: yellow, very pale, pale, pale gold, gold, old gold, full gold, amber, etc.\n",
    "- **Nose**: aromatic, peaty, sweet, light, fresh, dry, grassy, etc.\n",
    "- **Body**: soft, medium, full, round, smooth, light, firm, oily.\n",
    "- **Palate**: full, dry, sherry, big, fruity, grassy, smoky, salty, etc.\n",
    "- **Finish**: full, dry, warm, light, smooth, clean, fruity, grassy, smoky, etc.\n",
    "\n",
    "Let's read it in and take a look. There are a few other features unrelated to the ones above. For this class, we will be dropping them. However, feel free to check them out!"
   ]
  },
  {
   "cell_type": "code",
   "execution_count": 3,
   "metadata": {
    "collapsed": false
   },
   "outputs": [
    {
     "data": {
      "text/html": [
       "<div>\n",
       "<table border=\"1\" class=\"dataframe\">\n",
       "  <thead>\n",
       "    <tr style=\"text-align: right;\">\n",
       "      <th></th>\n",
       "      <th>color.wyne</th>\n",
       "      <th>color.yellow</th>\n",
       "      <th>color.v.pale</th>\n",
       "      <th>color.pale</th>\n",
       "      <th>color.p.gold</th>\n",
       "      <th>color.gold</th>\n",
       "      <th>color.o.gold</th>\n",
       "      <th>color.f.gold</th>\n",
       "      <th>color.bronze</th>\n",
       "      <th>color.p.amber</th>\n",
       "      <th>...</th>\n",
       "      <th>district</th>\n",
       "      <th>islay</th>\n",
       "      <th>midland</th>\n",
       "      <th>spey</th>\n",
       "      <th>east</th>\n",
       "      <th>west</th>\n",
       "      <th>north</th>\n",
       "      <th>lowland</th>\n",
       "      <th>campbell</th>\n",
       "      <th>islands</th>\n",
       "    </tr>\n",
       "  </thead>\n",
       "  <tbody>\n",
       "    <tr>\n",
       "      <th>Aberfeldy</th>\n",
       "      <td>0</td>\n",
       "      <td>1</td>\n",
       "      <td>0</td>\n",
       "      <td>0</td>\n",
       "      <td>0</td>\n",
       "      <td>0</td>\n",
       "      <td>0</td>\n",
       "      <td>0</td>\n",
       "      <td>0</td>\n",
       "      <td>0</td>\n",
       "      <td>...</td>\n",
       "      <td>MIDLAND</td>\n",
       "      <td>0</td>\n",
       "      <td>1</td>\n",
       "      <td>0</td>\n",
       "      <td>0</td>\n",
       "      <td>0</td>\n",
       "      <td>0</td>\n",
       "      <td>0</td>\n",
       "      <td>0</td>\n",
       "      <td>0</td>\n",
       "    </tr>\n",
       "    <tr>\n",
       "      <th>Aberlour</th>\n",
       "      <td>0</td>\n",
       "      <td>0</td>\n",
       "      <td>0</td>\n",
       "      <td>0</td>\n",
       "      <td>0</td>\n",
       "      <td>0</td>\n",
       "      <td>0</td>\n",
       "      <td>0</td>\n",
       "      <td>0</td>\n",
       "      <td>0</td>\n",
       "      <td>...</td>\n",
       "      <td>SPEY</td>\n",
       "      <td>0</td>\n",
       "      <td>0</td>\n",
       "      <td>1</td>\n",
       "      <td>0</td>\n",
       "      <td>0</td>\n",
       "      <td>0</td>\n",
       "      <td>0</td>\n",
       "      <td>0</td>\n",
       "      <td>0</td>\n",
       "    </tr>\n",
       "    <tr>\n",
       "      <th>Ardberg</th>\n",
       "      <td>0</td>\n",
       "      <td>0</td>\n",
       "      <td>0</td>\n",
       "      <td>0</td>\n",
       "      <td>0</td>\n",
       "      <td>0</td>\n",
       "      <td>0</td>\n",
       "      <td>0</td>\n",
       "      <td>0</td>\n",
       "      <td>0</td>\n",
       "      <td>...</td>\n",
       "      <td>SOUTH</td>\n",
       "      <td>1</td>\n",
       "      <td>0</td>\n",
       "      <td>0</td>\n",
       "      <td>0</td>\n",
       "      <td>0</td>\n",
       "      <td>0</td>\n",
       "      <td>0</td>\n",
       "      <td>0</td>\n",
       "      <td>0</td>\n",
       "    </tr>\n",
       "    <tr>\n",
       "      <th>Ardmore</th>\n",
       "      <td>0</td>\n",
       "      <td>0</td>\n",
       "      <td>0</td>\n",
       "      <td>0</td>\n",
       "      <td>1</td>\n",
       "      <td>0</td>\n",
       "      <td>0</td>\n",
       "      <td>0</td>\n",
       "      <td>0</td>\n",
       "      <td>0</td>\n",
       "      <td>...</td>\n",
       "      <td>SPEY</td>\n",
       "      <td>0</td>\n",
       "      <td>0</td>\n",
       "      <td>1</td>\n",
       "      <td>0</td>\n",
       "      <td>0</td>\n",
       "      <td>0</td>\n",
       "      <td>0</td>\n",
       "      <td>0</td>\n",
       "      <td>0</td>\n",
       "    </tr>\n",
       "    <tr>\n",
       "      <th>Auchentoshan</th>\n",
       "      <td>0</td>\n",
       "      <td>0</td>\n",
       "      <td>0</td>\n",
       "      <td>0</td>\n",
       "      <td>1</td>\n",
       "      <td>0</td>\n",
       "      <td>0</td>\n",
       "      <td>0</td>\n",
       "      <td>0</td>\n",
       "      <td>0</td>\n",
       "      <td>...</td>\n",
       "      <td>WEST</td>\n",
       "      <td>0</td>\n",
       "      <td>0</td>\n",
       "      <td>0</td>\n",
       "      <td>0</td>\n",
       "      <td>0</td>\n",
       "      <td>0</td>\n",
       "      <td>1</td>\n",
       "      <td>0</td>\n",
       "      <td>0</td>\n",
       "    </tr>\n",
       "  </tbody>\n",
       "</table>\n",
       "<p>5 rows × 83 columns</p>\n",
       "</div>"
      ],
      "text/plain": [
       "              color.wyne  color.yellow  color.v.pale  color.pale  \\\n",
       "Aberfeldy              0             1             0           0   \n",
       "Aberlour               0             0             0           0   \n",
       "Ardberg                0             0             0           0   \n",
       "Ardmore                0             0             0           0   \n",
       "Auchentoshan           0             0             0           0   \n",
       "\n",
       "              color.p.gold  color.gold  color.o.gold  color.f.gold  \\\n",
       "Aberfeldy                0           0             0             0   \n",
       "Aberlour                 0           0             0             0   \n",
       "Ardberg                  0           0             0             0   \n",
       "Ardmore                  1           0             0             0   \n",
       "Auchentoshan             1           0             0             0   \n",
       "\n",
       "              color.bronze  color.p.amber   ...     district  islay  midland  \\\n",
       "Aberfeldy                0              0   ...      MIDLAND      0        1   \n",
       "Aberlour                 0              0   ...         SPEY      0        0   \n",
       "Ardberg                  0              0   ...        SOUTH      1        0   \n",
       "Ardmore                  0              0   ...         SPEY      0        0   \n",
       "Auchentoshan             0              0   ...         WEST      0        0   \n",
       "\n",
       "              spey  east  west  north   lowland  campbell  islands  \n",
       "Aberfeldy        0     0     0       0        0         0        0  \n",
       "Aberlour         1     0     0       0        0         0        0  \n",
       "Ardberg          0     0     0       0        0         0        0  \n",
       "Ardmore          1     0     0       0        0         0        0  \n",
       "Auchentoshan     0     0     0       0        1         0        0  \n",
       "\n",
       "[5 rows x 83 columns]"
      ]
     },
     "execution_count": 3,
     "metadata": {},
     "output_type": "execute_result"
    }
   ],
   "source": [
    "data = pd.read_csv(\"scotch.csv\")\n",
    "data.head()"
   ]
  },
  {
   "cell_type": "code",
   "execution_count": 4,
   "metadata": {
    "collapsed": false
   },
   "outputs": [],
   "source": [
    "data = data.drop([u'age', u'dist', u'score', u'percent', u'region', u'district', u'islay', u'midland', u'spey', u'east', u'west', u'north ', u'lowland', u'campbell', u'islands'], axis=1)"
   ]
  },
  {
   "cell_type": "code",
   "execution_count": 5,
   "metadata": {
    "collapsed": false
   },
   "outputs": [
    {
     "data": {
      "text/html": [
       "<div>\n",
       "<table border=\"1\" class=\"dataframe\">\n",
       "  <thead>\n",
       "    <tr style=\"text-align: right;\">\n",
       "      <th></th>\n",
       "      <th>color.wyne</th>\n",
       "      <th>color.yellow</th>\n",
       "      <th>color.v.pale</th>\n",
       "      <th>color.pale</th>\n",
       "      <th>color.p.gold</th>\n",
       "      <th>color.gold</th>\n",
       "      <th>color.o.gold</th>\n",
       "      <th>color.f.gold</th>\n",
       "      <th>color.bronze</th>\n",
       "      <th>color.p.amber</th>\n",
       "      <th>...</th>\n",
       "      <th>fin.smoke</th>\n",
       "      <th>fin.sweet</th>\n",
       "      <th>fin.spice</th>\n",
       "      <th>fin.oil</th>\n",
       "      <th>fin.salt</th>\n",
       "      <th>fin.arome</th>\n",
       "      <th>fin.ling</th>\n",
       "      <th>fin.long</th>\n",
       "      <th>fin.very</th>\n",
       "      <th>fin.quick</th>\n",
       "    </tr>\n",
       "  </thead>\n",
       "  <tbody>\n",
       "    <tr>\n",
       "      <th>Aberfeldy</th>\n",
       "      <td>0</td>\n",
       "      <td>1</td>\n",
       "      <td>0</td>\n",
       "      <td>0</td>\n",
       "      <td>0</td>\n",
       "      <td>0</td>\n",
       "      <td>0</td>\n",
       "      <td>0</td>\n",
       "      <td>0</td>\n",
       "      <td>0</td>\n",
       "      <td>...</td>\n",
       "      <td>0</td>\n",
       "      <td>0</td>\n",
       "      <td>1</td>\n",
       "      <td>0</td>\n",
       "      <td>0</td>\n",
       "      <td>0</td>\n",
       "      <td>0</td>\n",
       "      <td>0</td>\n",
       "      <td>0</td>\n",
       "      <td>0</td>\n",
       "    </tr>\n",
       "    <tr>\n",
       "      <th>Aberlour</th>\n",
       "      <td>0</td>\n",
       "      <td>0</td>\n",
       "      <td>0</td>\n",
       "      <td>0</td>\n",
       "      <td>0</td>\n",
       "      <td>0</td>\n",
       "      <td>0</td>\n",
       "      <td>0</td>\n",
       "      <td>0</td>\n",
       "      <td>0</td>\n",
       "      <td>...</td>\n",
       "      <td>0</td>\n",
       "      <td>0</td>\n",
       "      <td>0</td>\n",
       "      <td>0</td>\n",
       "      <td>0</td>\n",
       "      <td>0</td>\n",
       "      <td>1</td>\n",
       "      <td>0</td>\n",
       "      <td>0</td>\n",
       "      <td>0</td>\n",
       "    </tr>\n",
       "    <tr>\n",
       "      <th>Ardberg</th>\n",
       "      <td>0</td>\n",
       "      <td>0</td>\n",
       "      <td>0</td>\n",
       "      <td>0</td>\n",
       "      <td>0</td>\n",
       "      <td>0</td>\n",
       "      <td>0</td>\n",
       "      <td>0</td>\n",
       "      <td>0</td>\n",
       "      <td>0</td>\n",
       "      <td>...</td>\n",
       "      <td>0</td>\n",
       "      <td>0</td>\n",
       "      <td>0</td>\n",
       "      <td>0</td>\n",
       "      <td>1</td>\n",
       "      <td>0</td>\n",
       "      <td>0</td>\n",
       "      <td>0</td>\n",
       "      <td>0</td>\n",
       "      <td>0</td>\n",
       "    </tr>\n",
       "    <tr>\n",
       "      <th>Ardmore</th>\n",
       "      <td>0</td>\n",
       "      <td>0</td>\n",
       "      <td>0</td>\n",
       "      <td>0</td>\n",
       "      <td>1</td>\n",
       "      <td>0</td>\n",
       "      <td>0</td>\n",
       "      <td>0</td>\n",
       "      <td>0</td>\n",
       "      <td>0</td>\n",
       "      <td>...</td>\n",
       "      <td>0</td>\n",
       "      <td>0</td>\n",
       "      <td>0</td>\n",
       "      <td>0</td>\n",
       "      <td>0</td>\n",
       "      <td>0</td>\n",
       "      <td>0</td>\n",
       "      <td>0</td>\n",
       "      <td>0</td>\n",
       "      <td>0</td>\n",
       "    </tr>\n",
       "    <tr>\n",
       "      <th>Auchentoshan</th>\n",
       "      <td>0</td>\n",
       "      <td>0</td>\n",
       "      <td>0</td>\n",
       "      <td>0</td>\n",
       "      <td>1</td>\n",
       "      <td>0</td>\n",
       "      <td>0</td>\n",
       "      <td>0</td>\n",
       "      <td>0</td>\n",
       "      <td>0</td>\n",
       "      <td>...</td>\n",
       "      <td>0</td>\n",
       "      <td>0</td>\n",
       "      <td>1</td>\n",
       "      <td>0</td>\n",
       "      <td>0</td>\n",
       "      <td>0</td>\n",
       "      <td>0</td>\n",
       "      <td>0</td>\n",
       "      <td>0</td>\n",
       "      <td>0</td>\n",
       "    </tr>\n",
       "  </tbody>\n",
       "</table>\n",
       "<p>5 rows × 68 columns</p>\n",
       "</div>"
      ],
      "text/plain": [
       "              color.wyne  color.yellow  color.v.pale  color.pale  \\\n",
       "Aberfeldy              0             1             0           0   \n",
       "Aberlour               0             0             0           0   \n",
       "Ardberg                0             0             0           0   \n",
       "Ardmore                0             0             0           0   \n",
       "Auchentoshan           0             0             0           0   \n",
       "\n",
       "              color.p.gold  color.gold  color.o.gold  color.f.gold  \\\n",
       "Aberfeldy                0           0             0             0   \n",
       "Aberlour                 0           0             0             0   \n",
       "Ardberg                  0           0             0             0   \n",
       "Ardmore                  1           0             0             0   \n",
       "Auchentoshan             1           0             0             0   \n",
       "\n",
       "              color.bronze  color.p.amber    ...      fin.smoke  fin.sweet  \\\n",
       "Aberfeldy                0              0    ...              0          0   \n",
       "Aberlour                 0              0    ...              0          0   \n",
       "Ardberg                  0              0    ...              0          0   \n",
       "Ardmore                  0              0    ...              0          0   \n",
       "Auchentoshan             0              0    ...              0          0   \n",
       "\n",
       "              fin.spice  fin.oil  fin.salt  fin.arome  fin.ling  fin.long  \\\n",
       "Aberfeldy             1        0         0          0         0         0   \n",
       "Aberlour              0        0         0          0         1         0   \n",
       "Ardberg               0        0         1          0         0         0   \n",
       "Ardmore               0        0         0          0         0         0   \n",
       "Auchentoshan          1        0         0          0         0         0   \n",
       "\n",
       "              fin.very  fin.quick  \n",
       "Aberfeldy            0          0  \n",
       "Aberlour             0          0  \n",
       "Ardberg              0          0  \n",
       "Ardmore              0          0  \n",
       "Auchentoshan         0          0  \n",
       "\n",
       "[5 rows x 68 columns]"
      ]
     },
     "execution_count": 5,
     "metadata": {},
     "output_type": "execute_result"
    }
   ],
   "source": [
    "data.head()"
   ]
  },
  {
   "cell_type": "markdown",
   "metadata": {
    "collapsed": false
   },
   "source": [
    "### Similarity measures\n",
    "Each of our whiskeys can be described by its feature vector (68 attributes). Consider Foster's favorite, \"Bunnahabhain\"."
   ]
  },
  {
   "cell_type": "code",
   "execution_count": 6,
   "metadata": {
    "collapsed": false
   },
   "outputs": [
    {
     "name": "stdout",
     "output_type": "stream",
     "text": [
      "'color.gold', 'nose.fresh', 'nose.sea', 'body.med', 'body.light', 'body.firm', 'pal.clean', 'pal.fruit', 'pal.sweet', 'fin.full'\n"
     ]
    }
   ],
   "source": [
    "print data_tools.feature_printer(data, 'Bunnahabhain')"
   ]
  },
  {
   "cell_type": "markdown",
   "metadata": {},
   "source": [
    "What other entries do we have that are similar?"
   ]
  },
  {
   "cell_type": "code",
   "execution_count": 7,
   "metadata": {
    "collapsed": false
   },
   "outputs": [],
   "source": [
    "# For a full list of the distance metrics supported by scipy, check:\n",
    "# http://docs.scipy.org/doc/scipy/reference/spatial.distance.html\n",
    "\n",
    "def whiskey_distance(name, distance_measures, n):\n",
    "    # We want a data frame to store the output\n",
    "    distances = pd.DataFrame()\n",
    "    \n",
    "    # Find the location of the whiskey we are looking for\n",
    "    whiskey_location = np.where(data.index == name)[0][0]\n",
    "\n",
    "    # Go through all distance measures we care about\n",
    "    for distance_measure in distance_measures:\n",
    "        # Find all pairwise distances\n",
    "        current_distances = distance.squareform(distance.pdist(data, distance_measure))\n",
    "        # Get the closest n for the whiskey we care about\n",
    "        most_similar = np.argsort(current_distances[:, whiskey_location])[0:n]\n",
    "        # Append results\n",
    "        distances[distance_measure] = zip(data.index[most_similar], current_distances[most_similar, whiskey_location])\n",
    "    return distances"
   ]
  },
  {
   "cell_type": "code",
   "execution_count": 8,
   "metadata": {
    "collapsed": false
   },
   "outputs": [
    {
     "data": {
      "text/html": [
       "<div>\n",
       "<table border=\"1\" class=\"dataframe\">\n",
       "  <thead>\n",
       "    <tr style=\"text-align: right;\">\n",
       "      <th></th>\n",
       "      <th>euclidean</th>\n",
       "    </tr>\n",
       "  </thead>\n",
       "  <tbody>\n",
       "    <tr>\n",
       "      <th>0</th>\n",
       "      <td>(Bunnahabhain, 0.0)</td>\n",
       "    </tr>\n",
       "    <tr>\n",
       "      <th>1</th>\n",
       "      <td>(Glenglassaugh, 3.0)</td>\n",
       "    </tr>\n",
       "    <tr>\n",
       "      <th>2</th>\n",
       "      <td>(Ardberg, 3.16227766017)</td>\n",
       "    </tr>\n",
       "    <tr>\n",
       "      <th>3</th>\n",
       "      <td>(Bruichladdich, 3.16227766017)</td>\n",
       "    </tr>\n",
       "    <tr>\n",
       "      <th>4</th>\n",
       "      <td>(Tullibardine, 3.31662479036)</td>\n",
       "    </tr>\n",
       "    <tr>\n",
       "      <th>5</th>\n",
       "      <td>(Caperdonich, 3.46410161514)</td>\n",
       "    </tr>\n",
       "  </tbody>\n",
       "</table>\n",
       "</div>"
      ],
      "text/plain": [
       "                        euclidean\n",
       "0             (Bunnahabhain, 0.0)\n",
       "1            (Glenglassaugh, 3.0)\n",
       "2        (Ardberg, 3.16227766017)\n",
       "3  (Bruichladdich, 3.16227766017)\n",
       "4   (Tullibardine, 3.31662479036)\n",
       "5    (Caperdonich, 3.46410161514)"
      ]
     },
     "execution_count": 8,
     "metadata": {},
     "output_type": "execute_result"
    }
   ],
   "source": [
    "whiskey_distance('Bunnahabhain', ['euclidean'], 6)"
   ]
  },
  {
   "cell_type": "code",
   "execution_count": 9,
   "metadata": {
    "collapsed": false
   },
   "outputs": [
    {
     "data": {
      "text/html": [
       "<div>\n",
       "<table border=\"1\" class=\"dataframe\">\n",
       "  <thead>\n",
       "    <tr style=\"text-align: right;\">\n",
       "      <th></th>\n",
       "      <th>euclidean</th>\n",
       "      <th>cityblock</th>\n",
       "      <th>cosine</th>\n",
       "    </tr>\n",
       "  </thead>\n",
       "  <tbody>\n",
       "    <tr>\n",
       "      <th>0</th>\n",
       "      <td>(Bunnahabhain, 0.0)</td>\n",
       "      <td>(Bunnahabhain, 0.0)</td>\n",
       "      <td>(Bunnahabhain, 0.0)</td>\n",
       "    </tr>\n",
       "    <tr>\n",
       "      <th>1</th>\n",
       "      <td>(Glenglassaugh, 3.0)</td>\n",
       "      <td>(Glenglassaugh, 9.0)</td>\n",
       "      <td>(Glenglassaugh, 0.472953723305)</td>\n",
       "    </tr>\n",
       "    <tr>\n",
       "      <th>2</th>\n",
       "      <td>(Ardberg, 3.16227766017)</td>\n",
       "      <td>(Ardberg, 10.0)</td>\n",
       "      <td>(Tullibardine, 0.473765188416)</td>\n",
       "    </tr>\n",
       "    <tr>\n",
       "      <th>3</th>\n",
       "      <td>(Bruichladdich, 3.16227766017)</td>\n",
       "      <td>(Bruichladdich, 10.0)</td>\n",
       "      <td>(Glenmorangie, 0.492907447163)</td>\n",
       "    </tr>\n",
       "    <tr>\n",
       "      <th>4</th>\n",
       "      <td>(Tullibardine, 3.31662479036)</td>\n",
       "      <td>(Tullibardine, 11.0)</td>\n",
       "      <td>(Bruichladdich, 0.5)</td>\n",
       "    </tr>\n",
       "    <tr>\n",
       "      <th>5</th>\n",
       "      <td>(Caperdonich, 3.46410161514)</td>\n",
       "      <td>(Caperdonich, 12.0)</td>\n",
       "      <td>(Ardberg, 0.5)</td>\n",
       "    </tr>\n",
       "  </tbody>\n",
       "</table>\n",
       "</div>"
      ],
      "text/plain": [
       "                        euclidean              cityblock  \\\n",
       "0             (Bunnahabhain, 0.0)    (Bunnahabhain, 0.0)   \n",
       "1            (Glenglassaugh, 3.0)   (Glenglassaugh, 9.0)   \n",
       "2        (Ardberg, 3.16227766017)        (Ardberg, 10.0)   \n",
       "3  (Bruichladdich, 3.16227766017)  (Bruichladdich, 10.0)   \n",
       "4   (Tullibardine, 3.31662479036)   (Tullibardine, 11.0)   \n",
       "5    (Caperdonich, 3.46410161514)    (Caperdonich, 12.0)   \n",
       "\n",
       "                            cosine  \n",
       "0              (Bunnahabhain, 0.0)  \n",
       "1  (Glenglassaugh, 0.472953723305)  \n",
       "2   (Tullibardine, 0.473765188416)  \n",
       "3   (Glenmorangie, 0.492907447163)  \n",
       "4             (Bruichladdich, 0.5)  \n",
       "5                   (Ardberg, 0.5)  "
      ]
     },
     "execution_count": 9,
     "metadata": {},
     "output_type": "execute_result"
    }
   ],
   "source": [
    "whiskey_distance('Bunnahabhain', ['euclidean', 'cityblock', 'cosine'], 6)"
   ]
  },
  {
   "cell_type": "markdown",
   "metadata": {},
   "source": [
    "We can take a look at the features some of these have and see why they are ranked as being most similar."
   ]
  },
  {
   "cell_type": "code",
   "execution_count": 10,
   "metadata": {
    "collapsed": false
   },
   "outputs": [
    {
     "name": "stdout",
     "output_type": "stream",
     "text": [
      "'color.gold', 'nose.fresh', 'nose.sea', 'body.med', 'body.light', 'body.firm', 'pal.clean', 'pal.fruit', 'pal.sweet', 'fin.full'\n"
     ]
    }
   ],
   "source": [
    "print data_tools.feature_printer(data, 'Bunnahabhain')"
   ]
  },
  {
   "cell_type": "code",
   "execution_count": 11,
   "metadata": {
    "collapsed": false
   },
   "outputs": [
    {
     "name": "stdout",
     "output_type": "stream",
     "text": [
      "'color.pale', 'nose.light', 'body.smooth', 'body.light', 'body.firm', 'pal.dry', 'pal.clean', 'pal.smoke', 'pal.sweet', 'fin.full'\n"
     ]
    }
   ],
   "source": [
    "print data_tools.feature_printer(data, 'Bruichladdich')"
   ]
  },
  {
   "cell_type": "code",
   "execution_count": 12,
   "metadata": {
    "collapsed": false
   },
   "outputs": [
    {
     "name": "stdout",
     "output_type": "stream",
     "text": [
      "'color.sherry', 'nose.peat', 'nose.dry', 'nose.sea', 'body.med', 'body.full', 'body.light', 'body.firm', 'pal.sweet', 'fin.salt'\n"
     ]
    }
   ],
   "source": [
    "print data_tools.feature_printer(data, 'Ardberg')"
   ]
  },
  {
   "cell_type": "markdown",
   "metadata": {},
   "source": [
    "#### KMeans\n",
    "\n",
    "One method for finding clusters is to use the KMeans algorithm to find a set of $k$ clusters. Here, we need first define the number of clusters in advance."
   ]
  },
  {
   "cell_type": "code",
   "execution_count": 13,
   "metadata": {
    "collapsed": false
   },
   "outputs": [
    {
     "data": {
      "text/html": [
       "<div>\n",
       "<table border=\"1\" class=\"dataframe\">\n",
       "  <thead>\n",
       "    <tr style=\"text-align: right;\">\n",
       "      <th></th>\n",
       "      <th>Cluster 0</th>\n",
       "      <th>Cluster 1</th>\n",
       "      <th>Cluster 2</th>\n",
       "      <th>Cluster 3</th>\n",
       "      <th>Cluster 4</th>\n",
       "      <th>Cluster 5</th>\n",
       "    </tr>\n",
       "  </thead>\n",
       "  <tbody>\n",
       "    <tr>\n",
       "      <th>0</th>\n",
       "      <td>Auchentoshan</td>\n",
       "      <td>Aberlour</td>\n",
       "      <td>Benriach</td>\n",
       "      <td>Ardmore</td>\n",
       "      <td>Aberfeldy</td>\n",
       "      <td>Ardberg</td>\n",
       "    </tr>\n",
       "    <tr>\n",
       "      <th>1</th>\n",
       "      <td>Balblair</td>\n",
       "      <td>Balvenie</td>\n",
       "      <td>Bunnahabhain</td>\n",
       "      <td>Aultmore</td>\n",
       "      <td>Balmenach</td>\n",
       "      <td>Benromach</td>\n",
       "    </tr>\n",
       "    <tr>\n",
       "      <th>2</th>\n",
       "      <td>Ben Nevis</td>\n",
       "      <td>Benrinnes</td>\n",
       "      <td>Cragganmore</td>\n",
       "      <td>Brackla</td>\n",
       "      <td>Banff</td>\n",
       "      <td>Bowmore</td>\n",
       "    </tr>\n",
       "    <tr>\n",
       "      <th>3</th>\n",
       "      <td>Bladnoch</td>\n",
       "      <td>Clynelish</td>\n",
       "      <td>Edradour</td>\n",
       "      <td>Craigellachie</td>\n",
       "      <td>Caperdonich</td>\n",
       "      <td>Cardhu</td>\n",
       "    </tr>\n",
       "    <tr>\n",
       "      <th>4</th>\n",
       "      <td>Blair Athol</td>\n",
       "      <td>Dalmore</td>\n",
       "      <td>Glenallachie</td>\n",
       "      <td>Dailuaine</td>\n",
       "      <td>Convalmore</td>\n",
       "      <td>Dufftown</td>\n",
       "    </tr>\n",
       "    <tr>\n",
       "      <th>5</th>\n",
       "      <td>Bruichladdich</td>\n",
       "      <td>Glendullan</td>\n",
       "      <td>Glen Deveron</td>\n",
       "      <td>Dalwhinnie</td>\n",
       "      <td>Dallas Dhu</td>\n",
       "      <td>Glen  Albyn</td>\n",
       "    </tr>\n",
       "    <tr>\n",
       "      <th>6</th>\n",
       "      <td>Caol Ila</td>\n",
       "      <td>Glenfarclas</td>\n",
       "      <td>Glenesk</td>\n",
       "      <td>Deanston</td>\n",
       "      <td>Glencadam</td>\n",
       "      <td>Glen Keith</td>\n",
       "    </tr>\n",
       "    <tr>\n",
       "      <th>7</th>\n",
       "      <td>Coleburn</td>\n",
       "      <td>Glenrothes</td>\n",
       "      <td>Glengoyne</td>\n",
       "      <td>Glendronach</td>\n",
       "      <td>Glen Elgin</td>\n",
       "      <td>Glenlochy</td>\n",
       "    </tr>\n",
       "    <tr>\n",
       "      <th>8</th>\n",
       "      <td>Fettercairn</td>\n",
       "      <td>Glen Scotia</td>\n",
       "      <td>Glenkinchie</td>\n",
       "      <td>Glen Grant</td>\n",
       "      <td>Glen Garioch</td>\n",
       "      <td>Glenury Royal</td>\n",
       "    </tr>\n",
       "    <tr>\n",
       "      <th>9</th>\n",
       "      <td>Glenburgie</td>\n",
       "      <td>Glenugie</td>\n",
       "      <td>Glenlossie</td>\n",
       "      <td>Glen Mhor</td>\n",
       "      <td>Glen Ordie</td>\n",
       "      <td>Jura</td>\n",
       "    </tr>\n",
       "    <tr>\n",
       "      <th>10</th>\n",
       "      <td>Glenfiddich</td>\n",
       "      <td>Highland Park</td>\n",
       "      <td>Miltonduff</td>\n",
       "      <td>Glen Spey</td>\n",
       "      <td>Glenturret</td>\n",
       "      <td>Lagavulin</td>\n",
       "    </tr>\n",
       "    <tr>\n",
       "      <th>11</th>\n",
       "      <td>Glenglassaugh</td>\n",
       "      <td>Laphroaig</td>\n",
       "      <td>Oban</td>\n",
       "      <td>Inchgower</td>\n",
       "      <td>Imperial</td>\n",
       "      <td>Linkwood</td>\n",
       "    </tr>\n",
       "    <tr>\n",
       "      <th>12</th>\n",
       "      <td>Glenlivet</td>\n",
       "      <td>Lochside</td>\n",
       "      <td>Springbank</td>\n",
       "      <td>Inverleven</td>\n",
       "      <td>Kinclaith</td>\n",
       "      <td>North Port</td>\n",
       "    </tr>\n",
       "    <tr>\n",
       "      <th>13</th>\n",
       "      <td>Glenmorangie</td>\n",
       "      <td>Macallan</td>\n",
       "      <td>Tullibardine</td>\n",
       "      <td>Knockando</td>\n",
       "      <td>Knockdhu</td>\n",
       "      <td>Saint Magdalene</td>\n",
       "    </tr>\n",
       "    <tr>\n",
       "      <th>14</th>\n",
       "      <td>Glen Moray</td>\n",
       "      <td>Millburn</td>\n",
       "      <td></td>\n",
       "      <td></td>\n",
       "      <td>Littlemill</td>\n",
       "      <td>Springbank-Longrow</td>\n",
       "    </tr>\n",
       "    <tr>\n",
       "      <th>15</th>\n",
       "      <td>Glentauchers</td>\n",
       "      <td>Port Ellen</td>\n",
       "      <td></td>\n",
       "      <td></td>\n",
       "      <td>Lochnagar</td>\n",
       "      <td>Tamdhu</td>\n",
       "    </tr>\n",
       "    <tr>\n",
       "      <th>16</th>\n",
       "      <td>Inchmurrin</td>\n",
       "      <td>Scapa</td>\n",
       "      <td></td>\n",
       "      <td></td>\n",
       "      <td>Mortlach</td>\n",
       "      <td></td>\n",
       "    </tr>\n",
       "    <tr>\n",
       "      <th>17</th>\n",
       "      <td>Ladyburn</td>\n",
       "      <td>Singleton</td>\n",
       "      <td></td>\n",
       "      <td></td>\n",
       "      <td>Talisker</td>\n",
       "      <td></td>\n",
       "    </tr>\n",
       "    <tr>\n",
       "      <th>18</th>\n",
       "      <td>Longmorn</td>\n",
       "      <td>Strathisla</td>\n",
       "      <td></td>\n",
       "      <td></td>\n",
       "      <td>Teaninich</td>\n",
       "      <td></td>\n",
       "    </tr>\n",
       "    <tr>\n",
       "      <th>19</th>\n",
       "      <td>Pulteney</td>\n",
       "      <td></td>\n",
       "      <td></td>\n",
       "      <td></td>\n",
       "      <td>Tobermory</td>\n",
       "      <td></td>\n",
       "    </tr>\n",
       "    <tr>\n",
       "      <th>20</th>\n",
       "      <td>Rosebank</td>\n",
       "      <td></td>\n",
       "      <td></td>\n",
       "      <td></td>\n",
       "      <td>Tomatin</td>\n",
       "      <td></td>\n",
       "    </tr>\n",
       "    <tr>\n",
       "      <th>21</th>\n",
       "      <td>Speyburn</td>\n",
       "      <td></td>\n",
       "      <td></td>\n",
       "      <td></td>\n",
       "      <td>Tormore</td>\n",
       "      <td></td>\n",
       "    </tr>\n",
       "    <tr>\n",
       "      <th>22</th>\n",
       "      <td>Tamnavulin</td>\n",
       "      <td></td>\n",
       "      <td></td>\n",
       "      <td></td>\n",
       "      <td></td>\n",
       "      <td></td>\n",
       "    </tr>\n",
       "    <tr>\n",
       "      <th>23</th>\n",
       "      <td>Tomintoul</td>\n",
       "      <td></td>\n",
       "      <td></td>\n",
       "      <td></td>\n",
       "      <td></td>\n",
       "      <td></td>\n",
       "    </tr>\n",
       "  </tbody>\n",
       "</table>\n",
       "</div>"
      ],
      "text/plain": [
       "        Cluster 0      Cluster 1     Cluster 2      Cluster 3     Cluster 4  \\\n",
       "0    Auchentoshan       Aberlour      Benriach        Ardmore     Aberfeldy   \n",
       "1        Balblair       Balvenie  Bunnahabhain       Aultmore     Balmenach   \n",
       "2       Ben Nevis      Benrinnes   Cragganmore        Brackla         Banff   \n",
       "3        Bladnoch      Clynelish      Edradour  Craigellachie   Caperdonich   \n",
       "4     Blair Athol        Dalmore  Glenallachie      Dailuaine    Convalmore   \n",
       "5   Bruichladdich     Glendullan  Glen Deveron     Dalwhinnie    Dallas Dhu   \n",
       "6        Caol Ila    Glenfarclas       Glenesk       Deanston     Glencadam   \n",
       "7        Coleburn     Glenrothes     Glengoyne    Glendronach    Glen Elgin   \n",
       "8     Fettercairn    Glen Scotia   Glenkinchie     Glen Grant  Glen Garioch   \n",
       "9      Glenburgie       Glenugie    Glenlossie      Glen Mhor    Glen Ordie   \n",
       "10    Glenfiddich  Highland Park    Miltonduff      Glen Spey    Glenturret   \n",
       "11  Glenglassaugh      Laphroaig          Oban      Inchgower      Imperial   \n",
       "12      Glenlivet       Lochside    Springbank     Inverleven     Kinclaith   \n",
       "13   Glenmorangie       Macallan  Tullibardine      Knockando      Knockdhu   \n",
       "14     Glen Moray       Millburn                                 Littlemill   \n",
       "15   Glentauchers     Port Ellen                                  Lochnagar   \n",
       "16     Inchmurrin          Scapa                                   Mortlach   \n",
       "17       Ladyburn      Singleton                                   Talisker   \n",
       "18       Longmorn     Strathisla                                  Teaninich   \n",
       "19       Pulteney                                                 Tobermory   \n",
       "20       Rosebank                                                   Tomatin   \n",
       "21       Speyburn                                                   Tormore   \n",
       "22     Tamnavulin                                                             \n",
       "23      Tomintoul                                                             \n",
       "\n",
       "             Cluster 5  \n",
       "0              Ardberg  \n",
       "1            Benromach  \n",
       "2              Bowmore  \n",
       "3               Cardhu  \n",
       "4             Dufftown  \n",
       "5          Glen  Albyn  \n",
       "6           Glen Keith  \n",
       "7            Glenlochy  \n",
       "8        Glenury Royal  \n",
       "9                 Jura  \n",
       "10           Lagavulin  \n",
       "11            Linkwood  \n",
       "12          North Port  \n",
       "13     Saint Magdalene  \n",
       "14  Springbank-Longrow  \n",
       "15              Tamdhu  \n",
       "16                      \n",
       "17                      \n",
       "18                      \n",
       "19                      \n",
       "20                      \n",
       "21                      \n",
       "22                      \n",
       "23                      "
      ]
     },
     "execution_count": 13,
     "metadata": {},
     "output_type": "execute_result"
    }
   ],
   "source": [
    "k_clusters = 6\n",
    "\n",
    "# Fit and predict clusters\n",
    "model = KMeans(k_clusters)\n",
    "model.fit(data)\n",
    "clusters = model.predict(data)\n",
    "\n",
    "# Do some messy stuff to print a nice table of clusters\n",
    "cluster_listing = {}\n",
    "for cluster in range(k_clusters):\n",
    "    cluster_listing['Cluster ' + str(cluster)] = [''] * 109\n",
    "    where_in_cluster = np.where(clusters == cluster)[0]\n",
    "    cluster_listing['Cluster ' + str(cluster)][0:len(where_in_cluster)] = data.index[where_in_cluster]\n",
    "\n",
    "# Print clusters\n",
    "pd.DataFrame(cluster_listing).loc[0:np.max(np.bincount(clusters)) - 1,:]"
   ]
  },
  {
   "cell_type": "markdown",
   "metadata": {},
   "source": [
    "How do we name or describe these clusters? \n",
    "\n",
    "[That's a question for you!]\n",
    "\n",
    "Let's take a look at the results of a particular clustering from Lapointe and Legendre's *A Classification of Pure Malt Scotch Whiskies*. In this clustering, they create 12 clusters A through L. Let's take cluster J as an example and built a decision tree that will classifier all whiskies as either belonging to J or not belonging to J.\n",
    "\n",
    "<img src=\"images/cluster_tree.png\" height=50% width=50%>"
   ]
  },
  {
   "cell_type": "markdown",
   "metadata": {},
   "source": [
    "Ok.\n",
    "\n",
    "Now let's take a look at a different data set that only has two features. This will make visualizing the data much easier."
   ]
  },
  {
   "cell_type": "code",
   "execution_count": 1,
   "metadata": {
    "collapsed": false
   },
   "outputs": [
    {
     "ename": "NameError",
     "evalue": "name 'data_tools' is not defined",
     "output_type": "error",
     "traceback": [
      "\u001b[0;31m---------------------------------------------------------------------------\u001b[0m",
      "\u001b[0;31mNameError\u001b[0m                                 Traceback (most recent call last)",
      "\u001b[0;32m<ipython-input-1-038698f16a9c>\u001b[0m in \u001b[0;36m<module>\u001b[0;34m()\u001b[0m\n\u001b[0;32m----> 1\u001b[0;31m \u001b[0mX\u001b[0m\u001b[0;34m,\u001b[0m \u001b[0mY\u001b[0m \u001b[0;34m=\u001b[0m \u001b[0mdata_tools\u001b[0m\u001b[0;34m.\u001b[0m\u001b[0mmake_cluster_data\u001b[0m\u001b[0;34m(\u001b[0m\u001b[0;34m)\u001b[0m\u001b[0;34m\u001b[0m\u001b[0m\n\u001b[0m",
      "\u001b[0;31mNameError\u001b[0m: name 'data_tools' is not defined"
     ]
    }
   ],
   "source": [
    "X, Y = data_tools.make_cluster_data()"
   ]
  },
  {
   "cell_type": "markdown",
   "metadata": {},
   "source": [
    "We can plot the data and take a look."
   ]
  },
  {
   "cell_type": "code",
   "execution_count": null,
   "metadata": {
    "collapsed": false
   },
   "outputs": [],
   "source": [
    "plt.scatter(X[:,0], X[:, 1], s=20)\n",
    "plt.xlabel(\"Feature 1\")\n",
    "plt.ylabel(\"Feature 2\")\n",
    "plt.show()"
   ]
  },
  {
   "cell_type": "markdown",
   "metadata": {},
   "source": [
    "Similar to what we did above, we can apply KMeans to this data. Let's try a few different values for the number of clusters $k$."
   ]
  },
  {
   "cell_type": "code",
   "execution_count": null,
   "metadata": {
    "collapsed": false
   },
   "outputs": [],
   "source": [
    "# KMeans\n",
    "model = KMeans(2)\n",
    "model.fit(X)\n",
    "clusters = model.predict(X)\n",
    "plt.scatter(X[:,0], X[:, 1], color=data_tools.colorizer(clusters), linewidth=0, s=20)\n",
    "plt.xlabel(\"Feature 1\")\n",
    "plt.ylabel(\"Feature 2\")\n",
    "plt.show()"
   ]
  },
  {
   "cell_type": "markdown",
   "metadata": {},
   "source": [
    "### Classification\n",
    "\n",
    "What if we have labels for our records? In this 2 dimensional data that we're using, we have five numerical labels, 0 through 4. One way to use clustering to build a classifier is to use the K-Nearest Neighbors algorithm.\n",
    "\n",
    "We'll start by splitting our X and Y data into train and test sets."
   ]
  },
  {
   "cell_type": "code",
   "execution_count": null,
   "metadata": {
    "collapsed": false
   },
   "outputs": [],
   "source": [
    "X_train, X_test, Y_train, Y_test = train_test_split(X, Y, train_size=.75)"
   ]
  },
  {
   "cell_type": "markdown",
   "metadata": {},
   "source": [
    "Now, let's try setting the number of neighbors to use, $k$, to a few different values and look at the results."
   ]
  },
  {
   "cell_type": "code",
   "execution_count": null,
   "metadata": {
    "collapsed": false
   },
   "outputs": [],
   "source": [
    "# KNN\n",
    "model = KNeighborsClassifier(10)\n",
    "model.fit(X_train, Y_train)\n",
    "data_tools.Decision_Surface(X, Y, model, cell_size=.05, surface=True, points=False)"
   ]
  },
  {
   "cell_type": "markdown",
   "metadata": {},
   "source": [
    "You can see that as we make $k$ smaller, we get many smaller blobs all bunched together. What happens when we get down to $k=1$?"
   ]
  },
  {
   "cell_type": "markdown",
   "metadata": {},
   "source": [
    "Even though we have 5 classes, we can still use the evaluation metrics we have already learned about. Accuracy should be straight forward:"
   ]
  },
  {
   "cell_type": "code",
   "execution_count": null,
   "metadata": {
    "collapsed": false
   },
   "outputs": [],
   "source": [
    "for k in [1, 10, 100]:\n",
    "    model = KNeighborsClassifier(k)\n",
    "    model.fit(X_train, Y_train)\n",
    "    print \"Accuracy with k = %d is %.3f\" % (k, metrics.accuracy_score(Y_test, model.predict(X_test)))"
   ]
  },
  {
   "cell_type": "markdown",
   "metadata": {},
   "source": [
    "With a few small tweaks, we can also look at AUC:"
   ]
  },
  {
   "cell_type": "code",
   "execution_count": null,
   "metadata": {
    "collapsed": false
   },
   "outputs": [],
   "source": [
    "for k in [1, 10, 100]:\n",
    "    model = KNeighborsClassifier(k)\n",
    "    model.fit(X_train, Y_train)\n",
    "    probabilities = model.predict_proba(X_test)\n",
    "\n",
    "    print \"KNN with k = %d\" % k\n",
    "    aucs = 0\n",
    "    for i in range(5):\n",
    "        auc = metrics.roc_auc_score(Y_test == i, probabilities[:,i])\n",
    "        aucs += auc\n",
    "        print \"   AUC for label %d vs. rest = %.3f\" % (i, auc)\n",
    "    print \"   Average AUC = %.3f\\n\" % (aucs / 5.0)"
   ]
  }
 ],
 "metadata": {
  "anaconda-cloud": {},
  "kernelspec": {
   "display_name": "Python [default]",
   "language": "python",
   "name": "python2"
  },
  "language_info": {
   "codemirror_mode": {
    "name": "ipython",
    "version": 2
   },
   "file_extension": ".py",
   "mimetype": "text/x-python",
   "name": "python",
   "nbconvert_exporter": "python",
   "pygments_lexer": "ipython2",
   "version": "2.7.12"
  }
 },
 "nbformat": 4,
 "nbformat_minor": 0
}
